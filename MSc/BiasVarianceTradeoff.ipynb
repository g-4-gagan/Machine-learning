{
 "cells": [
  {
   "cell_type": "markdown",
   "id": "7efce574",
   "metadata": {},
   "source": [
    "## Assignment problem statement\n",
    "\n",
    "Take a trigonometric function and a choose an error function (N(0, sigma-sq)). Generate  data  set of 10,000 instances. Fit polynomials of order 1 - 10 and estimate and plot total error, Bias, Variance,   \n",
    "\n",
    "training and validation error for each  using 10-fold cross validation.   Create the folds using Python function and compute all errors using the equations given in textbook.  Select the optimal model.\n",
    "\n",
    "For the selected model, estimate and plot total error, Bias, Variance,    training and validation error for training set sizes  1K, 2K, ... 10K. Use 10-fold cross validation for each training set, and the functions coded earlier for estimating the error."
   ]
  },
  {
   "cell_type": "code",
   "execution_count": 1,
   "id": "8e26bcfd",
   "metadata": {},
   "outputs": [],
   "source": [
    "import numpy as np\n",
    "import pandas as pd\n",
    "import matplotlib.pyplot as plt\n",
    "import seaborn as sns"
   ]
  },
  {
   "cell_type": "code",
   "execution_count": 2,
   "id": "eccef806",
   "metadata": {},
   "outputs": [
    {
     "name": "stdout",
     "output_type": "stream",
     "text": [
      "Enter the trigonometric function (e.g., 'np.sin' for sine): np.sin\n"
     ]
    },
    {
     "data": {
      "text/html": [
       "<div>\n",
       "<style scoped>\n",
       "    .dataframe tbody tr th:only-of-type {\n",
       "        vertical-align: middle;\n",
       "    }\n",
       "\n",
       "    .dataframe tbody tr th {\n",
       "        vertical-align: top;\n",
       "    }\n",
       "\n",
       "    .dataframe thead th {\n",
       "        text-align: right;\n",
       "    }\n",
       "</style>\n",
       "<table border=\"1\" class=\"dataframe\">\n",
       "  <thead>\n",
       "    <tr style=\"text-align: right;\">\n",
       "      <th></th>\n",
       "      <th>x</th>\n",
       "      <th>y</th>\n",
       "    </tr>\n",
       "  </thead>\n",
       "  <tbody>\n",
       "    <tr>\n",
       "      <th>0</th>\n",
       "      <td>2.012659</td>\n",
       "      <td>0.972633</td>\n",
       "    </tr>\n",
       "    <tr>\n",
       "      <th>1</th>\n",
       "      <td>2.533167</td>\n",
       "      <td>0.535118</td>\n",
       "    </tr>\n",
       "    <tr>\n",
       "      <th>2</th>\n",
       "      <td>0.520148</td>\n",
       "      <td>-0.008531</td>\n",
       "    </tr>\n",
       "    <tr>\n",
       "      <th>3</th>\n",
       "      <td>1.878530</td>\n",
       "      <td>0.800062</td>\n",
       "    </tr>\n",
       "    <tr>\n",
       "      <th>4</th>\n",
       "      <td>1.205704</td>\n",
       "      <td>0.964221</td>\n",
       "    </tr>\n",
       "  </tbody>\n",
       "</table>\n",
       "</div>"
      ],
      "text/plain": [
       "          x         y\n",
       "0  2.012659  0.972633\n",
       "1  2.533167  0.535118\n",
       "2  0.520148 -0.008531\n",
       "3  1.878530  0.800062\n",
       "4  1.205704  0.964221"
      ]
     },
     "execution_count": 2,
     "metadata": {},
     "output_type": "execute_result"
    }
   ],
   "source": [
    "def generate_dataset(num_instances, sigma, trig_func):\n",
    "    dataset = []\n",
    "    for _ in range(num_instances):\n",
    "        angle = np.random.uniform(0, 2 * np.pi)  # Random angle between 0 and 2*pi\n",
    "        error = np.random.normal(0, sigma)  # Random error from a normal distribution\n",
    "        value = trig_func(angle) + error  # Compute the value with the user-defined trigonometric function and error\n",
    "        dataset.append([angle, value])\n",
    "    return dataset\n",
    "\n",
    "num_instances = 10000\n",
    "sigma = 0.2  # Adjust the value of sigma to control the spread of the errors\n",
    "\n",
    "# Get the user's input for the trigonometric function\n",
    "trig_func_input = input(\"Enter the trigonometric function (e.g., 'np.sin' for sine): \")\n",
    "trig_func = eval(trig_func_input)  # Evaluate the user's input to obtain the function\n",
    "\n",
    "dataset = generate_dataset(num_instances, sigma, trig_func)\n",
    "\n",
    "# Create a DataFrame from the dataset\n",
    "df = pd.DataFrame(dataset, columns=['x', 'y'])\n",
    "df.head()"
   ]
  },
  {
   "cell_type": "code",
   "execution_count": 3,
   "id": "9189d135",
   "metadata": {},
   "outputs": [
    {
     "data": {
      "image/png": "[encoded data removed]",
      "text/plain": [
       "<Figure size 432x288 with 1 Axes>"
      ]
     },
     "metadata": {
      "needs_background": "light"
     },
     "output_type": "display_data"
    }
   ],
   "source": [
    "#plotting the dataset that we have created in above\n",
    "plt.scatter(df['x'], df['y'])\n",
    "plt.xlabel('x')\n",
    "plt.ylabel('y')\n",
    "plt.title('Trigonometric Dataset')\n",
    "plt.axhline(y=0, color='black', linestyle='--')  # Add a horizontal line at y=0\n",
    "plt.axvline(x=0, color='black', linestyle='--')  # Add a vertical line at x=0\n",
    "plt.show()"
   ]
  },
  {
   "cell_type": "code",
   "execution_count": 4,
   "id": "5baf010d",
   "metadata": {},
   "outputs": [],
   "source": [
    "from sklearn.model_selection import train_test_split\n",
    "from sklearn.model_selection import KFold\n",
    "from sklearn.metrics import mean_squared_error"
   ]
  },
  {
   "cell_type": "code",
   "execution_count": 5,
   "id": "02ec2987",
   "metadata": {},
   "outputs": [],
   "source": [
    "def calculate_values(dataset, train_indices, test_indices, degree):\n",
    "    x_train = dataset[train_indices, 0]\n",
    "    y_train = dataset[train_indices, 1]\n",
    "    x_test = dataset[test_indices, 0]\n",
    "    y_test = dataset[test_indices, 1]\n",
    "    \n",
    "    coefficients = np.polyfit(x_train, y_train, degree)\n",
    "    y_train_pred = np.polyval(coefficients, x_train)\n",
    "    y_test_pred = np.polyval(coefficients, x_test)\n",
    "    \n",
    "    train_error = mean_squared_error(y_train, y_train_pred)\n",
    "    test_error = mean_squared_error(y_test, y_test_pred)\n",
    "    \n",
    "    bias = np.mean((y_test - np.mean(y_test_pred))**2)\n",
    "    variance = np.var(y_test_pred)\n",
    "    \n",
    "    total_error = (bias+variance)\n",
    "    \n",
    "    return train_error, test_error, bias, variance, total_error"
   ]
  },
  {
   "cell_type": "code",
   "execution_count": 6,
   "id": "15aadbb8",
   "metadata": {},
   "outputs": [],
   "source": [
    "def fit_polynomial(dataset, degrees, cv_folds=10):\n",
    "    kf = KFold(n_splits=cv_folds)\n",
    "    total_errors = []\n",
    "    biases = []\n",
    "    variances = []\n",
    "    train_errors = []\n",
    "    test_errors = []\n",
    "    \n",
    "    for d in degrees:\n",
    "        total_errors.append([])\n",
    "        biases.append([])\n",
    "        variances.append([])\n",
    "        train_errors.append([])\n",
    "        test_errors.append([])   \n",
    "    \n",
    "    for train_indices, test_indices in kf.split(dataset):\n",
    "        for idx, degree in enumerate(degrees):\n",
    "            \n",
    "            train_error, test_error, bias, variance, total_error = calculate_values(dataset, train_indices, test_indices, degree)\n",
    "            total_errors[idx].append(total_error)\n",
    "            biases[idx].append(bias)\n",
    "            variances[idx].append(variance)\n",
    "            train_errors[idx].append(train_error)\n",
    "            test_errors[idx].append(test_error)\n",
    "\n",
    "    for idx in range(0, len(degrees)):\n",
    "        total_errors[idx] = np.mean(total_errors[idx])\n",
    "        biases[idx] = np.mean(biases[idx])\n",
    "        variances[idx] = np.mean(variances[idx])\n",
    "        train_errors[idx] = np.mean(train_errors[idx])\n",
    "        test_errors[idx] = np.mean(test_errors[idx])\n",
    "    return total_errors, biases, variances, train_errors, test_errors"
   ]
  },
  {
   "cell_type": "code",
   "execution_count": 7,
   "id": "840c8bb9",
   "metadata": {},
   "outputs": [],
   "source": [
    "degrees = range(1, 11)\n",
    "total_errors, biases, variances, train_errors, test_errors = fit_polynomial(df.values, degrees)\n",
    "# total_errors, biases, variances, train_errors, test_errors"
   ]
  },
  {
   "cell_type": "code",
   "execution_count": 8,
   "id": "60d3b081",
   "metadata": {},
   "outputs": [
    {
     "name": "stdout",
     "output_type": "stream",
     "text": [
      "  Degree of Poly.    Total Error      Bias    Variance    Training Error    Testing Error\n",
      "-----------------  -------------  --------  ----------  ----------------  ---------------\n",
      "                1       0.836852  0.537466    0.299386         0.238003         0.238185\n",
      "                2       0.837011  0.537463    0.299548         0.237897         0.23815\n",
      "                3       1.02872   0.537065    0.491657         0.0452909        0.0453296\n",
      "                4       1.02875   0.537066    0.491685         0.0452631        0.0453055\n",
      "                5       1.03268   0.537078    0.4956           0.0412936        0.0413529\n",
      "                6       1.03269   0.537078    0.495613         0.0412912        0.0413593\n",
      "                7       1.0327    0.537078    0.495622         0.0412845        0.04136\n",
      "                8       1.0327    0.537078    0.495623         0.0412832        0.041372\n",
      "                9       1.03271   0.537077    0.495636         0.0412827        0.0413786\n",
      "               10       1.03272   0.537078    0.49564          0.0412815        0.0413862\n"
     ]
    }
   ],
   "source": [
    "from tabulate import tabulate\n",
    "error_table = np.array([[\"Degree of Poly.\", \"Total Error\", \"Bias\", \"Variance\", \"Training Error\", \"Testing Error\"]])\n",
    "error_table = np.append(error_table,np.transpose([degrees, total_errors, biases, variances, train_errors, test_errors]))\n",
    "error_table.shape =(11,6)\n",
    "print(tabulate(error_table, headers=\"firstrow\"))"
   ]
  },
  {
   "cell_type": "code",
   "execution_count": 9,
   "id": "62866ec8",
   "metadata": {},
   "outputs": [
    {
     "data": {
      "image/png": "[encoded data removed]",
      "text/plain": [
       "<Figure size 576x432 with 1 Axes>"
      ]
     },
     "metadata": {
      "needs_background": "light"
     },
     "output_type": "display_data"
    }
   ],
   "source": [
    "def plot_errors(degrees, total_errors, biases, variances, train_errors, test_errors):\n",
    "\n",
    "    fig, ax = plt.subplots(figsize=(8, 6))\n",
    "    ax.plot(degrees, train_errors, label='Training Error')\n",
    "    ax.plot(degrees, test_errors, label='Test Error')\n",
    "    ax.plot(degrees, total_errors, label='Total Error')\n",
    "    ax.plot(degrees, biases, label='Bias')\n",
    "    ax.plot(degrees, variances, label='Variance')\n",
    "    ax.set_xlabel('Degree of Polynomial')\n",
    "    ax.set_ylabel('Error')\n",
    "    ax.set_title('Errors for Different Degrees of Polynomial')\n",
    "    ax.legend()\n",
    "    ax.grid(True)\n",
    "    plt.xticks(degrees)\n",
    "    plt.tight_layout()\n",
    "    plt.show()\n",
    "    \n",
    "plot_errors(degrees, total_errors, biases, variances, train_errors, test_errors)"
   ]
  },
  {
   "cell_type": "code",
   "execution_count": 10,
   "id": "b9f49f1c",
   "metadata": {},
   "outputs": [
    {
     "name": "stdout",
     "output_type": "stream",
     "text": [
      "5\n"
     ]
    }
   ],
   "source": [
    "optimal_degree_idx = np.argmin(test_errors)\n",
    "optimal_degree = degrees[optimal_degree_idx]\n",
    "print(optimal_degree)"
   ]
  },
  {
   "cell_type": "code",
   "execution_count": 11,
   "id": "6a050df1",
   "metadata": {},
   "outputs": [
    {
     "data": {
      "text/plain": [
       "array([ 1000,  2000,  3000,  4000,  5000,  6000,  7000,  8000,  9000,\n",
       "       10000])"
      ]
     },
     "execution_count": 11,
     "metadata": {},
     "output_type": "execute_result"
    }
   ],
   "source": [
    "training_set_sizes = np.arange(1000, 10001, 1000)\n",
    "training_set_sizes"
   ]
  },
  {
   "cell_type": "code",
   "execution_count": 12,
   "id": "ffd30df9",
   "metadata": {},
   "outputs": [],
   "source": [
    "def fit_optimal_polynomial(dataset, degree, sizes):\n",
    "    total_errors = []\n",
    "    biases = []\n",
    "    variances = []\n",
    "    train_errors = []\n",
    "    test_errors = []\n",
    "    \n",
    "    for idx, size in enumerate(sizes):\n",
    "        partial_dataset = np.array(dataset[:size])  # Convert the dataset to a numpy array\n",
    "        total_error, bias, variance, train_error, test_error = fit_polynomial(partial_dataset, [degree])\n",
    "        total_errors.append(total_error[0])\n",
    "        biases.append(bias[0])\n",
    "        variances.append(variance[0])\n",
    "        train_errors.append(train_error[0])\n",
    "        test_errors.append(test_error[0])\n",
    "    return total_errors, biases, variances, train_errors, test_errors"
   ]
  },
  {
   "cell_type": "code",
   "execution_count": 13,
   "id": "21496b5d",
   "metadata": {},
   "outputs": [],
   "source": [
    "total_errors, biases, variances, train_errors, test_errors = fit_optimal_polynomial(df, \n",
    "                                                                                    optimal_degree, \n",
    "                                                                                    training_set_sizes)\n",
    "# total_errors, biases, variances, train_errors, test_errors\n"
   ]
  },
  {
   "cell_type": "code",
   "execution_count": 14,
   "id": "08df0557",
   "metadata": {},
   "outputs": [
    {
     "name": "stdout",
     "output_type": "stream",
     "text": [
      "  Training Set Size    Total Error      Bias    Variance    Training Error    Testing Error\n",
      "-------------------  -------------  --------  ----------  ----------------  ---------------\n",
      "               1000        1.06543  0.55251     0.512919         0.0394008        0.0398424\n",
      "               2000        1.06731  0.553688    0.513622         0.039846         0.0401356\n",
      "               3000        1.04941  0.545611    0.503795         0.0410733        0.0412446\n",
      "               4000        1.03968  0.540459    0.499224         0.0412719        0.0413972\n",
      "               5000        1.03231  0.536687    0.495627         0.0409468        0.0410513\n",
      "               6000        1.03076  0.535961    0.494798         0.0411209        0.041191\n",
      "               7000        1.03402  0.537579    0.496445         0.0410137        0.0410817\n",
      "               8000        1.0398   0.540486    0.499318         0.0410332        0.0410996\n",
      "               9000        1.04128  0.541211    0.500064         0.0410133        0.0410655\n",
      "              10000        1.03268  0.537078    0.4956           0.0412936        0.0413529\n"
     ]
    }
   ],
   "source": [
    "error_table = np.array([[\"Training Set Size\", \"Total Error\", \"Bias\", \"Variance\", \"Training Error\", \"Testing Error\"]])\n",
    "error_table = np.append(error_table,np.transpose([training_set_sizes, total_errors, biases, variances, train_errors, test_errors]))\n",
    "error_table.shape =(11,6)\n",
    "print(tabulate(error_table, headers=\"firstrow\"))"
   ]
  },
  {
   "cell_type": "code",
   "execution_count": 15,
   "id": "f41b4912",
   "metadata": {},
   "outputs": [
    {
     "data": {
      "image/png": "[encoded data removed]",
      "text/plain": [
       "<Figure size 576x432 with 1 Axes>"
      ]
     },
     "metadata": {
      "needs_background": "light"
     },
     "output_type": "display_data"
    }
   ],
   "source": [
    "def plot_optimal_graph(sizes, total_errors, biases, variances, train_errors, test_errors):\n",
    "\n",
    "    fig, ax = plt.subplots(figsize=(8, 6))\n",
    "    ax.plot(training_set_sizes, total_errors, label='Total Error', linestyle='dashed', marker='o')\n",
    "    ax.plot(training_set_sizes, biases, label='Bias', linestyle='dashed', marker='o')\n",
    "    ax.plot(training_set_sizes, variances, label='Variance', linestyle='dashed', marker='o')\n",
    "    ax.plot(training_set_sizes, train_errors, label='Training Error', linestyle='solid', marker='o')\n",
    "    ax.plot(training_set_sizes, test_errors, label='Validation Error', linestyle='dashed', marker='o')\n",
    "    ax.set_xlabel('Training Set Size')\n",
    "    ax.set_ylabel('Error')\n",
    "    ax.set_title('Errors for Optimal Degree')\n",
    "    ax.legend()\n",
    "    ax.grid(True)\n",
    "    plt.xticks(sizes)\n",
    "    plt.tight_layout()\n",
    "    plt.show()\n",
    "    \n",
    "plot_optimal_graph(training_set_sizes, total_errors, biases, variances, train_errors, test_errors)"
   ]
  },
  {
   "cell_type": "code",
   "execution_count": null,
   "id": "6e120353",
   "metadata": {},
   "outputs": [],
   "source": []
  }
 ],
 "metadata": {
  "kernelspec": {
   "display_name": "Python 3",
   "language": "python",
   "name": "python3"
  },
  "language_info": {
   "codemirror_mode": {
    "name": "ipython",
    "version": 3
   },
   "file_extension": ".py",
   "mimetype": "text/x-python",
   "name": "python",
   "nbconvert_exporter": "python",
   "pygments_lexer": "ipython3",
   "version": "3.7.4"
  }
 },
 "nbformat": 4,
 "nbformat_minor": 5
}
