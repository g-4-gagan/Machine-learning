{
 "cells": [
  {
   "cell_type": "markdown",
   "id": "f08d7d2e",
   "metadata": {},
   "source": [
    "## Assignment problem statement\n",
    "\n",
    "Take a trigonometric function and a choose an error function (N(0, sigma-sq)). Generate  data  set of 10,000 instances. Fit polynomials of order 1 - 10 and estimate and plot total error, Bias, Variance,   \n",
    "\n",
    "training and validation error for each  using 10-fold cross validation.   Create the folds using Python function and compute all errors using the equations given in textbook.  Select the optimal model.\n",
    "\n",
    "For the selected model, estimate and plot total error, Bias, Variance,    training and validation error for training set sizes  1K, 2K, ... 10K. Use 10-fold cross validation for each training set, and the functions coded earlier for estimating the error."
   ]
  },
  {
   "cell_type": "code",
   "execution_count": 1,
   "id": "ba9cf9ec",
   "metadata": {},
   "outputs": [],
   "source": [
    "import numpy as np\n",
    "import pandas as pd\n",
    "import matplotlib.pyplot as plt\n",
    "import seaborn as sns"
   ]
  },
  {
   "cell_type": "code",
   "execution_count": 2,
   "id": "47a93832",
   "metadata": {},
   "outputs": [
    {
     "name": "stdout",
     "output_type": "stream",
     "text": [
      "Enter the trigonometric function (e.g., 'np.sin' for sine): np.cos\n"
     ]
    },
    {
     "data": {
      "text/html": [
       "<div>\n",
       "<style scoped>\n",
       "    .dataframe tbody tr th:only-of-type {\n",
       "        vertical-align: middle;\n",
       "    }\n",
       "\n",
       "    .dataframe tbody tr th {\n",
       "        vertical-align: top;\n",
       "    }\n",
       "\n",
       "    .dataframe thead th {\n",
       "        text-align: right;\n",
       "    }\n",
       "</style>\n",
       "<table border=\"1\" class=\"dataframe\">\n",
       "  <thead>\n",
       "    <tr style=\"text-align: right;\">\n",
       "      <th></th>\n",
       "      <th>x</th>\n",
       "      <th>y</th>\n",
       "    </tr>\n",
       "  </thead>\n",
       "  <tbody>\n",
       "    <tr>\n",
       "      <th>0</th>\n",
       "      <td>0.886592</td>\n",
       "      <td>0.663678</td>\n",
       "    </tr>\n",
       "    <tr>\n",
       "      <th>1</th>\n",
       "      <td>5.263931</td>\n",
       "      <td>-0.076391</td>\n",
       "    </tr>\n",
       "    <tr>\n",
       "      <th>2</th>\n",
       "      <td>5.181181</td>\n",
       "      <td>0.407326</td>\n",
       "    </tr>\n",
       "    <tr>\n",
       "      <th>3</th>\n",
       "      <td>3.097560</td>\n",
       "      <td>-1.010219</td>\n",
       "    </tr>\n",
       "    <tr>\n",
       "      <th>4</th>\n",
       "      <td>5.657369</td>\n",
       "      <td>1.156299</td>\n",
       "    </tr>\n",
       "  </tbody>\n",
       "</table>\n",
       "</div>"
      ],
      "text/plain": [
       "          x         y\n",
       "0  0.886592  0.663678\n",
       "1  5.263931 -0.076391\n",
       "2  5.181181  0.407326\n",
       "3  3.097560 -1.010219\n",
       "4  5.657369  1.156299"
      ]
     },
     "execution_count": 2,
     "metadata": {},
     "output_type": "execute_result"
    }
   ],
   "source": [
    "def generate_dataset(num_instances, sigma, trig_func):\n",
    "    dataset = []\n",
    "    for _ in range(num_instances):\n",
    "        angle = np.random.uniform(0, 2 * np.pi)  # Random angle between 0 and 2*pi\n",
    "        error = np.random.normal(0, sigma)  # Random error from a normal distribution\n",
    "        value = trig_func(angle) + error  # Compute the value with the user-defined trigonometric function and error\n",
    "        dataset.append([angle, value])\n",
    "    return dataset\n",
    "\n",
    "num_instances = 10000\n",
    "sigma = 0.2  # Adjust the value of sigma to control the spread of the errors\n",
    "\n",
    "# Get the user's input for the trigonometric function\n",
    "trig_func_input = input(\"Enter the trigonometric function (e.g., 'np.sin' for sine): \")\n",
    "trig_func = eval(trig_func_input)  # Evaluate the user's input to obtain the function\n",
    "\n",
    "dataset = generate_dataset(num_instances, sigma, trig_func)\n",
    "\n",
    "# Create a DataFrame from the dataset\n",
    "df = pd.DataFrame(dataset, columns=['x', 'y'])\n",
    "df.head()"
   ]
  },
  {
   "cell_type": "code",
   "execution_count": 3,
   "id": "58213298",
   "metadata": {},
   "outputs": [
    {
     "data": {
      "image/png": "[encoded data removed]",
      "text/plain": [
       "<Figure size 432x288 with 1 Axes>"
      ]
     },
     "metadata": {
      "needs_background": "light"
     },
     "output_type": "display_data"
    }
   ],
   "source": [
    "#plotting the dataset that we have created in above\n",
    "plt.scatter(df['x'], df['y'])\n",
    "plt.xlabel('x')\n",
    "plt.ylabel('y')\n",
    "plt.title('Trigonometric Dataset')\n",
    "plt.axhline(y=0, color='black', linestyle='--')  # Add a horizontal line at y=0\n",
    "plt.axvline(x=0, color='black', linestyle='--')  # Add a vertical line at x=0\n",
    "plt.show()"
   ]
  },
  {
   "cell_type": "code",
   "execution_count": 4,
   "id": "6a9c3659",
   "metadata": {},
   "outputs": [],
   "source": [
    "from sklearn.model_selection import train_test_split\n",
    "from sklearn.model_selection import KFold\n",
    "from sklearn.metrics import mean_squared_error"
   ]
  },
  {
   "cell_type": "code",
   "execution_count": 5,
   "id": "68bdb13b",
   "metadata": {},
   "outputs": [],
   "source": [
    "def calculate_values(dataset, train_indices, test_indices, degree):\n",
    "    x_train = dataset[train_indices, 0]\n",
    "    y_train = dataset[train_indices, 1]\n",
    "    x_test = dataset[test_indices, 0]\n",
    "    y_test = dataset[test_indices, 1]\n",
    "    \n",
    "    coefficients = np.polyfit(x_train, y_train, degree)\n",
    "    y_train_pred = np.polyval(coefficients, x_train)\n",
    "    y_test_pred = np.polyval(coefficients, x_test)\n",
    "    \n",
    "    train_error = mean_squared_error(y_train, y_train_pred)\n",
    "    test_error = mean_squared_error(y_test, y_test_pred)\n",
    "    \n",
    "    bias = np.mean((y_test - np.mean(y_test_pred))**2)\n",
    "    variance = np.var(y_test_pred)\n",
    "    \n",
    "    total_error = (bias+variance)\n",
    "    \n",
    "    return train_error, test_error, bias, variance, total_error"
   ]
  },
  {
   "cell_type": "code",
   "execution_count": 6,
   "id": "ab292da1",
   "metadata": {},
   "outputs": [],
   "source": [
    "def fit_polynomial(dataset, degrees, cv_folds=10):\n",
    "    kf = KFold(n_splits=cv_folds)\n",
    "    total_errors = []\n",
    "    biases = []\n",
    "    variances = []\n",
    "    train_errors = []\n",
    "    test_errors = []\n",
    "    \n",
    "    for d in degrees:\n",
    "        total_errors.append([])\n",
    "        biases.append([])\n",
    "        variances.append([])\n",
    "        train_errors.append([])\n",
    "        test_errors.append([])   \n",
    "    \n",
    "    for train_indices, test_indices in kf.split(dataset):\n",
    "        for idx, degree in enumerate(degrees):\n",
    "            \n",
    "            train_error, test_error, bias, variance, total_error = calculate_values(dataset, train_indices, test_indices, degree)\n",
    "            total_errors[idx].append(total_error)\n",
    "            biases[idx].append(bias)\n",
    "            variances[idx].append(variance)\n",
    "            train_errors[idx].append(train_error)\n",
    "            test_errors[idx].append(test_error)\n",
    "\n",
    "    for idx in range(0, len(degrees)):\n",
    "        total_errors[idx] = np.mean(total_errors[idx])\n",
    "        biases[idx] = np.mean(biases[idx])\n",
    "        variances[idx] = np.mean(variances[idx])\n",
    "        train_errors[idx] = np.mean(train_errors[idx])\n",
    "        test_errors[idx] = np.mean(test_errors[idx])\n",
    "    return total_errors, biases, variances, train_errors, test_errors"
   ]
  },
  {
   "cell_type": "code",
   "execution_count": 7,
   "id": "1885678d",
   "metadata": {},
   "outputs": [
    {
     "data": {
      "text/plain": [
       "([0.5465595329755364,\n",
       "  1.0126974875975154,\n",
       "  1.012772782953806,\n",
       "  1.0506102946207634,\n",
       "  1.050640720851708,\n",
       "  1.0510595051649907,\n",
       "  1.0510498202754444,\n",
       "  1.0510681752768294,\n",
       "  1.0510682542267888,\n",
       "  1.0510601645380837],\n",
       " [0.5465283634942902,\n",
       "  0.5459579108609959,\n",
       "  0.5459577791525363,\n",
       "  0.5459745603823085,\n",
       "  0.5459753596912456,\n",
       "  0.5459807654994087,\n",
       "  0.5459808345711172,\n",
       "  0.5459825343526014,\n",
       "  0.5459823333823735,\n",
       "  0.5459824866027405],\n",
       " [3.116948124615129e-05,\n",
       "  0.46673957673651933,\n",
       "  0.4668150038012698,\n",
       "  0.5046357342384546,\n",
       "  0.504665361160462,\n",
       "  0.505078739665582,\n",
       "  0.5050689857043271,\n",
       "  0.505085640924228,\n",
       "  0.5050859208444157,\n",
       "  0.5050776779353431],\n",
       " [0.5463705120481384,\n",
       "  0.07912717748099458,\n",
       "  0.07912461759890536,\n",
       "  0.04105199106882424,\n",
       "  0.04104360430778322,\n",
       "  0.04065047123687402,\n",
       "  0.04064885391746105,\n",
       "  0.0406347085868562,\n",
       "  0.040634250284347265,\n",
       "  0.04063357233017479],\n",
       " [0.5468677106738592,\n",
       "  0.07918851454424408,\n",
       "  0.07921857323438429,\n",
       "  0.041112035090625235,\n",
       "  0.04111538129262503,\n",
       "  0.04073571697087611,\n",
       "  0.04075334717180274,\n",
       "  0.04074751418844553,\n",
       "  0.040754590211200294,\n",
       "  0.04076605463137624])"
      ]
     },
     "execution_count": 7,
     "metadata": {},
     "output_type": "execute_result"
    }
   ],
   "source": [
    "degrees = range(1, 11)\n",
    "total_errors, biases, variances, train_errors, test_errors = fit_polynomial(df.values, degrees)\n",
    "total_errors, biases, variances, train_errors, test_errors"
   ]
  },
  {
   "cell_type": "code",
   "execution_count": 8,
   "id": "507a0640",
   "metadata": {},
   "outputs": [
    {
     "data": {
      "image/png": "[encoded data removed]",
      "text/plain": [
       "<Figure size 576x432 with 1 Axes>"
      ]
     },
     "metadata": {
      "needs_background": "light"
     },
     "output_type": "display_data"
    }
   ],
   "source": [
    "def plot_errors(degrees, total_errors, biases, variances, train_errors, test_errors):\n",
    "\n",
    "    fig, ax = plt.subplots(figsize=(8, 6))\n",
    "    ax.plot(degrees, train_errors, label='Training Error')\n",
    "    ax.plot(degrees, test_errors, label='Test Error')\n",
    "    ax.plot(degrees, total_errors, label='Total Error')\n",
    "    ax.plot(degrees, biases, label='Bias')\n",
    "    ax.plot(degrees, variances, label='Variance')\n",
    "    ax.set_xlabel('Degree of Polynomial')\n",
    "    ax.set_ylabel('Error')\n",
    "    ax.set_title('Errors for Different Degrees of Polynomial')\n",
    "    ax.legend()\n",
    "    ax.grid(True)\n",
    "    plt.xticks(degrees)\n",
    "    plt.tight_layout()\n",
    "    plt.show()\n",
    "    \n",
    "plot_errors(degrees, total_errors, biases, variances, train_errors, test_errors)"
   ]
  },
  {
   "cell_type": "code",
   "execution_count": 9,
   "id": "f4243f7b",
   "metadata": {},
   "outputs": [
    {
     "name": "stdout",
     "output_type": "stream",
     "text": [
      "6\n"
     ]
    }
   ],
   "source": [
    "optimal_degree_idx = np.argmin(test_errors)\n",
    "optimal_degree = degrees[optimal_degree_idx]\n",
    "print(optimal_degree)"
   ]
  },
  {
   "cell_type": "code",
   "execution_count": 10,
   "id": "3b01ceb0",
   "metadata": {},
   "outputs": [
    {
     "data": {
      "text/plain": [
       "array([ 1000,  2000,  3000,  4000,  5000,  6000,  7000,  8000,  9000,\n",
       "       10000])"
      ]
     },
     "execution_count": 10,
     "metadata": {},
     "output_type": "execute_result"
    }
   ],
   "source": [
    "training_set_sizes = np.arange(1000, 10001, 1000)\n",
    "training_set_sizes"
   ]
  },
  {
   "cell_type": "code",
   "execution_count": 11,
   "id": "1fd2fe6c",
   "metadata": {},
   "outputs": [],
   "source": [
    "def fit_optimal_polynomial(dataset, degree, sizes):\n",
    "    total_errors = []\n",
    "    biases = []\n",
    "    variances = []\n",
    "    train_errors = []\n",
    "    test_errors = []\n",
    "    \n",
    "    for idx, size in enumerate(sizes):\n",
    "        partial_dataset = np.array(dataset[:size])  # Convert the dataset to a numpy array\n",
    "        total_error, bias, variance, train_error, test_error = fit_polynomial(partial_dataset, [degree])\n",
    "        total_errors.append(total_error[0])\n",
    "        biases.append(bias[0])\n",
    "        variances.append(variance[0])\n",
    "        train_errors.append(train_error[0])\n",
    "        test_errors.append(test_error[0])\n",
    "    return total_errors, biases, variances, train_errors, test_errors"
   ]
  },
  {
   "cell_type": "code",
   "execution_count": 12,
   "id": "d16f30ec",
   "metadata": {},
   "outputs": [],
   "source": [
    "total_errors, biases, variances, train_errors, test_errors = fit_optimal_polynomial(df, \n",
    "                                                                                    optimal_degree, \n",
    "                                                                                    training_set_sizes)\n",
    "# total_errors, biases, variances, train_errors, test_errors\n",
    "from tabulate import tabulate\n",
    "# error_table = [[\"Training Set Size\", \"Total Error\", \"Bias\", \"Variance\", \"Training Error\", \"Validation Error\"]]\n",
    "# error_table.append([[training_set_sizes], fit_optimal_polynomial(df, np.argmin(test_errors), training_set_sizes)])\n",
    "# print(tabulate(error_table, headers=\"firstrow\"))\n",
    "# print(tabulate([training_set_sizes, total_errors, biases, variances, train_errors, test_errors]))"
   ]
  },
  {
   "cell_type": "code",
   "execution_count": 13,
   "id": "534da315",
   "metadata": {},
   "outputs": [
    {
     "data": {
      "image/png": "[encoded data removed]",
      "text/plain": [
       "<Figure size 576x432 with 1 Axes>"
      ]
     },
     "metadata": {
      "needs_background": "light"
     },
     "output_type": "display_data"
    }
   ],
   "source": [
    "def plot_optimal_graph(sizes, total_errors, biases, variances, train_errors, test_errors):\n",
    "\n",
    "    fig, ax = plt.subplots(figsize=(8, 6))\n",
    "    ax.plot(training_set_sizes, total_errors, label='Total Error', linestyle='dashed', marker='o')\n",
    "    ax.plot(training_set_sizes, biases, label='Bias', linestyle='dashed', marker='o')\n",
    "    ax.plot(training_set_sizes, variances, label='Variance', linestyle='dashed', marker='o')\n",
    "    ax.plot(training_set_sizes, train_errors, label='Training Error', linestyle='solid', marker='o')\n",
    "    ax.plot(training_set_sizes, test_errors, label='Validation Error', linestyle='dashed', marker='o')\n",
    "    ax.set_xlabel('Training Set Size')\n",
    "    ax.set_ylabel('Error')\n",
    "    ax.set_title('Errors for Optimal Degree')\n",
    "    ax.legend()\n",
    "    ax.grid(True)\n",
    "    plt.xticks(sizes)\n",
    "    plt.tight_layout()\n",
    "    plt.show()\n",
    "    \n",
    "plot_optimal_graph(training_set_sizes, total_errors, biases, variances, train_errors, test_errors)"
   ]
  },
  {
   "cell_type": "code",
   "execution_count": null,
   "id": "a9663a05",
   "metadata": {},
   "outputs": [],
   "source": []
  }
 ],
 "metadata": {
  "kernelspec": {
   "display_name": "Python 3",
   "language": "python",
   "name": "python3"
  },
  "language_info": {
   "codemirror_mode": {
    "name": "ipython",
    "version": 3
   },
   "file_extension": ".py",
   "mimetype": "text/x-python",
   "name": "python",
   "nbconvert_exporter": "python",
   "pygments_lexer": "ipython3",
   "version": "3.7.4"
  }
 },
 "nbformat": 4,
 "nbformat_minor": 5
}
