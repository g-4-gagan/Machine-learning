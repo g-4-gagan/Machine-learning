{
 "cells": [
  {
   "cell_type": "code",
   "execution_count": 1,
   "metadata": {},
   "outputs": [],
   "source": [
    "import numpy as np\n",
    "import matplotlib.pyplot as plt"
   ]
  },
  {
   "cell_type": "code",
   "execution_count": 2,
   "metadata": {},
   "outputs": [
    {
     "name": "stdout",
     "output_type": "stream",
     "text": [
      "Array X:  [4 6 8 2 5]\n",
      "Array Y:  [17 23 34  9 13]\n"
     ]
    }
   ],
   "source": [
    "x = np.array([4,6,8,2,5])\n",
    "y = np.array([17,23,34,9,13])\n",
    "print(\"Array X: \",x)\n",
    "print(\"Array Y: \",y)"
   ]
  },
  {
   "cell_type": "code",
   "execution_count": 3,
   "metadata": {},
   "outputs": [
    {
     "data": {
      "text/plain": [
       "5"
      ]
     },
     "execution_count": 3,
     "metadata": {},
     "output_type": "execute_result"
    }
   ],
   "source": [
    "n = np.size(x)\n",
    "n"
   ]
  },
  {
   "cell_type": "code",
   "execution_count": 4,
   "metadata": {},
   "outputs": [],
   "source": [
    "x_mean = np.mean(x)\n",
    "y_mean = np.mean(y)"
   ]
  },
  {
   "cell_type": "code",
   "execution_count": 5,
   "metadata": {},
   "outputs": [
    {
     "name": "stdout",
     "output_type": "stream",
     "text": [
      "Covariance of X and Y:  81.0\n",
      "Variance of X:  20.0\n"
     ]
    }
   ],
   "source": [
    "#covariance and variance calculation\n",
    "Sxy = np.sum(x*y)-n*x_mean*y_mean\n",
    "Sxx = np.sum(x*x)-n*x_mean*x_mean\n",
    "print(\"Covariance of X and Y: \",Sxy)\n",
    "print(\"Variance of X: \",Sxx)"
   ]
  },
  {
   "cell_type": "code",
   "execution_count": 6,
   "metadata": {},
   "outputs": [
    {
     "name": "stdout",
     "output_type": "stream",
     "text": [
      "Values of Q1 and Q0:  4.05 -1.0500000000000007\n"
     ]
    }
   ],
   "source": [
    "#calculating Q1 and Q0 for expression\n",
    "Q1 = Sxy/Sxx\n",
    "Q0 = y_mean-Q1*x_mean\n",
    "print(\"Values of Q1 and Q0: \",Q1,Q0)"
   ]
  },
  {
   "cell_type": "code",
   "execution_count": 7,
   "metadata": {},
   "outputs": [],
   "source": [
    "y_pred = Q0+Q1*x"
   ]
  },
  {
   "cell_type": "code",
   "execution_count": 8,
   "metadata": {},
   "outputs": [
    {
     "name": "stdout",
     "output_type": "stream",
     "text": [
      "Predicted Values of Y:  [15.15 23.25 31.35  7.05 19.2 ]\n"
     ]
    }
   ],
   "source": [
    "print(\"Predicted Values of Y: \",y_pred)"
   ]
  },
  {
   "cell_type": "code",
   "execution_count": 9,
   "metadata": {},
   "outputs": [
    {
     "data": {
      "text/plain": [
       "Text(0.5, 1.0, 'Y and Y predicted')"
      ]
     },
     "execution_count": 9,
     "metadata": {},
     "output_type": "execute_result"
    },
    {
     "data": {
      "image/png": "[encoded data removed]",
      "text/plain": [
       "<Figure size 432x288 with 1 Axes>"
      ]
     },
     "metadata": {
      "needs_background": "light"
     },
     "output_type": "display_data"
    }
   ],
   "source": [
    "plt.scatter(x,y,color='green')\n",
    "plt.plot(x,y_pred,color='red')\n",
    "plt.xlabel(\"X\")\n",
    "plt.ylabel(\"Y\")\n",
    "plt.title(\"Y and Y predicted\")"
   ]
  },
  {
   "cell_type": "code",
   "execution_count": 10,
   "metadata": {},
   "outputs": [
    {
     "name": "stdout",
     "output_type": "stream",
     "text": [
      "Mean Squared error:  10.55\n",
      "Root mean Squared error:  3.248076353782343\n"
     ]
    }
   ],
   "source": [
    "error = y - y_pred\n",
    "se = np.sum(error**2)\n",
    "mse = se/n\n",
    "print(\"Mean Squared error: \",mse)\n",
    "print(\"Root mean Squared error: \",np.sqrt(mse))"
   ]
  },
  {
   "cell_type": "code",
   "execution_count": 11,
   "metadata": {},
   "outputs": [],
   "source": [
    "from sklearn.linear_model import LinearRegression"
   ]
  },
  {
   "cell_type": "code",
   "execution_count": 12,
   "metadata": {},
   "outputs": [],
   "source": [
    "lm = LinearRegression()"
   ]
  },
  {
   "cell_type": "code",
   "execution_count": 13,
   "metadata": {},
   "outputs": [
    {
     "name": "stdout",
     "output_type": "stream",
     "text": [
      "Array X:  [4 6 8 2 5]\n",
      "Array Y:  [17 23 34  9 13]\n"
     ]
    }
   ],
   "source": [
    "print(\"Array X: \",x)\n",
    "print(\"Array Y: \",y)"
   ]
  },
  {
   "cell_type": "code",
   "execution_count": 14,
   "metadata": {},
   "outputs": [
    {
     "data": {
      "text/plain": [
       "array([[4],\n",
       "       [6],\n",
       "       [8],\n",
       "       [2],\n",
       "       [5]])"
      ]
     },
     "execution_count": 14,
     "metadata": {},
     "output_type": "execute_result"
    }
   ],
   "source": [
    "x = x.reshape([-1,1])\n",
    "x"
   ]
  },
  {
   "cell_type": "code",
   "execution_count": 15,
   "metadata": {},
   "outputs": [
    {
     "data": {
      "text/plain": [
       "LinearRegression()"
      ]
     },
     "execution_count": 15,
     "metadata": {},
     "output_type": "execute_result"
    }
   ],
   "source": [
    "lm.fit(x,y)"
   ]
  },
  {
   "cell_type": "code",
   "execution_count": 16,
   "metadata": {},
   "outputs": [
    {
     "name": "stdout",
     "output_type": "stream",
     "text": [
      "Values of Q1 and Q0 from Sklearn Linear Regression Model:  [4.05] -1.0500000000000043\n"
     ]
    }
   ],
   "source": [
    "lm_Q0 = lm.intercept_\n",
    "lm_Q1 = lm.coef_\n",
    "print(\"Values of Q1 and Q0 from Sklearn Linear Regression Model: \",lm_Q1,lm_Q0)"
   ]
  },
  {
   "cell_type": "code",
   "execution_count": 17,
   "metadata": {},
   "outputs": [
    {
     "data": {
      "text/plain": [
       "array([15.15, 23.25, 31.35,  7.05, 19.2 ])"
      ]
     },
     "execution_count": 17,
     "metadata": {},
     "output_type": "execute_result"
    }
   ],
   "source": [
    "lm_y_pred = lm.predict(x)\n",
    "lm_y_pred"
   ]
  },
  {
   "cell_type": "code",
   "execution_count": 18,
   "metadata": {},
   "outputs": [],
   "source": [
    "from sklearn import metrics"
   ]
  },
  {
   "cell_type": "code",
   "execution_count": 19,
   "metadata": {},
   "outputs": [
    {
     "name": "stdout",
     "output_type": "stream",
     "text": [
      "Error evaluation on Sklearn linear Regression model\n",
      "Mean Squared error:  10.55\n",
      "Root mean Squared error:  3.248076353782343\n"
     ]
    }
   ],
   "source": [
    "print(\"Error evaluation on Sklearn linear Regression model\")\n",
    "lm_mse = metrics.mean_squared_error(y,lm_y_pred)\n",
    "print(\"Mean Squared error: \",lm_mse)\n",
    "print(\"Root mean Squared error: \",np.sqrt(lm_mse))"
   ]
  },
  {
   "cell_type": "code",
   "execution_count": null,
   "metadata": {},
   "outputs": [],
   "source": []
  }
 ],
 "metadata": {
  "kernelspec": {
   "display_name": "Python 3",
   "language": "python",
   "name": "python3"
  },
  "language_info": {
   "codemirror_mode": {
    "name": "ipython",
    "version": 3
   },
   "file_extension": ".py",
   "mimetype": "text/x-python",
   "name": "python",
   "nbconvert_exporter": "python",
   "pygments_lexer": "ipython3",
   "version": "3.7.4"
  }
 },
 "nbformat": 4,
 "nbformat_minor": 4
}
